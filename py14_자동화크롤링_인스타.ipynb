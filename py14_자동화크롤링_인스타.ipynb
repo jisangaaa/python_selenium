{
 "cells": [
  {
   "cell_type": "code",
   "execution_count": 1,
   "id": "392b23fc-36a8-41bb-9608-85ae602a7861",
   "metadata": {},
   "outputs": [
    {
     "data": {
      "text/plain": [
       "True"
      ]
     },
     "execution_count": 1,
     "metadata": {},
     "output_type": "execute_result"
    }
   ],
   "source": [
    "from selenium import webdriver\n",
    "from selenium.webdriver.chrome.service import Service\n",
    "from selenium.webdriver.common.keys import Keys\n",
    "from selenium.webdriver.chrome.options import Options\n",
    "from selenium.webdriver.support.ui import Select, WebDriverWait\n",
    "from selenium.webdriver.support import expected_conditions as EC\n",
    "from selenium.webdriver.common.by import By\n",
    "import time\n",
    "import re , os\n",
    "from bs4 import BeautifulSoup as bs\n",
    "import pandas as pd\n",
    "from hdfs import InsecureClient\n",
    "from datetime import datetime # datetime 모듈 임포트\n",
    "from dotenv import load_dotenv\n",
    "# .env 파일 로드\n",
    "load_dotenv()\n",
    "\n",
    "# 환경 변수 사용\n",
    "# email = os.getenv(\"EMAIL\")\n",
    "# passwd = os.getenv(\"PASSWORD\")\n",
    "# print(email,passwd)"
   ]
  },
  {
   "cell_type": "code",
   "execution_count": 2,
   "id": "814728d8-49f3-4a53-86f2-02bc5712129e",
   "metadata": {},
   "outputs": [
    {
     "name": "stdout",
     "output_type": "stream",
     "text": [
      "Instagram\n",
      "로그인시도 아이디/비밀번호\n",
      "아이디 및 비번입력완료\n",
      "확인 및 이동\n",
      "부산여행의 검색시작!!🐧\n"
     ]
    },
    {
     "ename": "InvalidSessionIdException",
     "evalue": "Message: invalid session id: session deleted as the browser has closed the connection\nfrom disconnected: not connected to DevTools\n  (Session info: chrome=135.0.7049.84)\nStacktrace:\n\tGetHandleVerifier [0x00007FF661475335+78597]\n\tGetHandleVerifier [0x00007FF661475390+78688]\n\t(No symbol) [0x00007FF6612291AA]\n\t(No symbol) [0x00007FF661214EF5]\n\t(No symbol) [0x00007FF661239F04]\n\t(No symbol) [0x00007FF6612AED0F]\n\t(No symbol) [0x00007FF6612CEBB2]\n\t(No symbol) [0x00007FF6612A6EC3]\n\t(No symbol) [0x00007FF6612703F8]\n\t(No symbol) [0x00007FF661271163]\n\tGetHandleVerifier [0x00007FF66171EEED+2870973]\n\tGetHandleVerifier [0x00007FF661719698+2848360]\n\tGetHandleVerifier [0x00007FF661736973+2967875]\n\tGetHandleVerifier [0x00007FF66149017A+188746]\n\tGetHandleVerifier [0x00007FF66149845F+222255]\n\tGetHandleVerifier [0x00007FF66147D2B4+111236]\n\tGetHandleVerifier [0x00007FF66147D462+111666]\n\tGetHandleVerifier [0x00007FF661463589+5465]\n\tBaseThreadInitThunk [0x00007FFD9BBEE8D7+23]\n\tRtlUserThreadStart [0x00007FFD9CE7C5DC+44]\n",
     "output_type": "error",
     "traceback": [
      "\u001b[1;31m---------------------------------------------------------------------------\u001b[0m",
      "\u001b[1;31mInvalidSessionIdException\u001b[0m                 Traceback (most recent call last)",
      "Cell \u001b[1;32mIn[2], line 63\u001b[0m\n\u001b[0;32m     61\u001b[0m \u001b[38;5;66;03m# 로드 결과\u001b[39;00m\n\u001b[0;32m     62\u001b[0m wait \u001b[38;5;241m=\u001b[39m WebDriverWait(driver, \u001b[38;5;241m10\u001b[39m)\n\u001b[1;32m---> 63\u001b[0m select_box1 \u001b[38;5;241m=\u001b[39m \u001b[43mwait\u001b[49m\u001b[38;5;241;43m.\u001b[39;49m\u001b[43muntil\u001b[49m\u001b[43m(\u001b[49m\u001b[43mEC\u001b[49m\u001b[38;5;241;43m.\u001b[39;49m\u001b[43mpresence_of_element_located\u001b[49m\u001b[43m(\u001b[49m\u001b[43m(\u001b[49m\u001b[43mBy\u001b[49m\u001b[38;5;241;43m.\u001b[39;49m\u001b[43mCSS_SELECTOR\u001b[49m\u001b[43m,\u001b[49m\u001b[38;5;124;43m\"\u001b[39;49m\u001b[38;5;124;43mdiv.x78zum5.xdt5ytf.xwrv7xz.x1n2onr6.xph46j.xfcsdxf.xsybdxg.x1bzgcud > div > div:nth-child(1) > div:nth-child(1) > div > a\u001b[39;49m\u001b[38;5;124;43m\"\u001b[39;49m\u001b[43m)\u001b[49m\u001b[43m)\u001b[49m\u001b[43m)\u001b[49m\n\u001b[0;32m     64\u001b[0m select_box1\u001b[38;5;241m.\u001b[39mclick()\n\u001b[0;32m     65\u001b[0m \u001b[38;5;28mprint\u001b[39m(\u001b[38;5;124m\"\u001b[39m\u001b[38;5;124m첫카드 클릭\u001b[39m\u001b[38;5;124m\"\u001b[39m)\n",
      "File \u001b[1;32m~\\AppData\\Local\\Programs\\Python\\Python313\\Lib\\site-packages\\selenium\\webdriver\\support\\wait.py:137\u001b[0m, in \u001b[0;36mWebDriverWait.until\u001b[1;34m(self, method, message)\u001b[0m\n\u001b[0;32m    135\u001b[0m \u001b[38;5;28;01mwhile\u001b[39;00m \u001b[38;5;28;01mTrue\u001b[39;00m:\n\u001b[0;32m    136\u001b[0m     \u001b[38;5;28;01mtry\u001b[39;00m:\n\u001b[1;32m--> 137\u001b[0m         value \u001b[38;5;241m=\u001b[39m \u001b[43mmethod\u001b[49m\u001b[43m(\u001b[49m\u001b[38;5;28;43mself\u001b[39;49m\u001b[38;5;241;43m.\u001b[39;49m\u001b[43m_driver\u001b[49m\u001b[43m)\u001b[49m\n\u001b[0;32m    138\u001b[0m         \u001b[38;5;28;01mif\u001b[39;00m value:\n\u001b[0;32m    139\u001b[0m             \u001b[38;5;28;01mreturn\u001b[39;00m value\n",
      "File \u001b[1;32m~\\AppData\\Local\\Programs\\Python\\Python313\\Lib\\site-packages\\selenium\\webdriver\\support\\expected_conditions.py:110\u001b[0m, in \u001b[0;36mpresence_of_element_located.<locals>._predicate\u001b[1;34m(driver)\u001b[0m\n\u001b[0;32m    109\u001b[0m \u001b[38;5;28;01mdef\u001b[39;00m\u001b[38;5;250m \u001b[39m\u001b[38;5;21m_predicate\u001b[39m(driver: WebDriverOrWebElement):\n\u001b[1;32m--> 110\u001b[0m     \u001b[38;5;28;01mreturn\u001b[39;00m \u001b[43mdriver\u001b[49m\u001b[38;5;241;43m.\u001b[39;49m\u001b[43mfind_element\u001b[49m\u001b[43m(\u001b[49m\u001b[38;5;241;43m*\u001b[39;49m\u001b[43mlocator\u001b[49m\u001b[43m)\u001b[49m\n",
      "File \u001b[1;32m~\\AppData\\Local\\Programs\\Python\\Python313\\Lib\\site-packages\\selenium\\webdriver\\remote\\webdriver.py:898\u001b[0m, in \u001b[0;36mWebDriver.find_element\u001b[1;34m(self, by, value)\u001b[0m\n\u001b[0;32m    895\u001b[0m         \u001b[38;5;28;01mraise\u001b[39;00m NoSuchElementException(\u001b[38;5;124mf\u001b[39m\u001b[38;5;124m\"\u001b[39m\u001b[38;5;124mCannot locate relative element with: \u001b[39m\u001b[38;5;132;01m{\u001b[39;00mby\u001b[38;5;241m.\u001b[39mroot\u001b[38;5;132;01m}\u001b[39;00m\u001b[38;5;124m\"\u001b[39m)\n\u001b[0;32m    896\u001b[0m     \u001b[38;5;28;01mreturn\u001b[39;00m elements[\u001b[38;5;241m0\u001b[39m]\n\u001b[1;32m--> 898\u001b[0m \u001b[38;5;28;01mreturn\u001b[39;00m \u001b[38;5;28;43mself\u001b[39;49m\u001b[38;5;241;43m.\u001b[39;49m\u001b[43mexecute\u001b[49m\u001b[43m(\u001b[49m\u001b[43mCommand\u001b[49m\u001b[38;5;241;43m.\u001b[39;49m\u001b[43mFIND_ELEMENT\u001b[49m\u001b[43m,\u001b[49m\u001b[43m \u001b[49m\u001b[43m{\u001b[49m\u001b[38;5;124;43m\"\u001b[39;49m\u001b[38;5;124;43musing\u001b[39;49m\u001b[38;5;124;43m\"\u001b[39;49m\u001b[43m:\u001b[49m\u001b[43m \u001b[49m\u001b[43mby\u001b[49m\u001b[43m,\u001b[49m\u001b[43m \u001b[49m\u001b[38;5;124;43m\"\u001b[39;49m\u001b[38;5;124;43mvalue\u001b[39;49m\u001b[38;5;124;43m\"\u001b[39;49m\u001b[43m:\u001b[49m\u001b[43m \u001b[49m\u001b[43mvalue\u001b[49m\u001b[43m}\u001b[49m\u001b[43m)\u001b[49m[\u001b[38;5;124m\"\u001b[39m\u001b[38;5;124mvalue\u001b[39m\u001b[38;5;124m\"\u001b[39m]\n",
      "File \u001b[1;32m~\\AppData\\Local\\Programs\\Python\\Python313\\Lib\\site-packages\\selenium\\webdriver\\remote\\webdriver.py:429\u001b[0m, in \u001b[0;36mWebDriver.execute\u001b[1;34m(self, driver_command, params)\u001b[0m\n\u001b[0;32m    427\u001b[0m response \u001b[38;5;241m=\u001b[39m \u001b[38;5;28mself\u001b[39m\u001b[38;5;241m.\u001b[39mcommand_executor\u001b[38;5;241m.\u001b[39mexecute(driver_command, params)\n\u001b[0;32m    428\u001b[0m \u001b[38;5;28;01mif\u001b[39;00m response:\n\u001b[1;32m--> 429\u001b[0m     \u001b[38;5;28;43mself\u001b[39;49m\u001b[38;5;241;43m.\u001b[39;49m\u001b[43merror_handler\u001b[49m\u001b[38;5;241;43m.\u001b[39;49m\u001b[43mcheck_response\u001b[49m\u001b[43m(\u001b[49m\u001b[43mresponse\u001b[49m\u001b[43m)\u001b[49m\n\u001b[0;32m    430\u001b[0m     response[\u001b[38;5;124m\"\u001b[39m\u001b[38;5;124mvalue\u001b[39m\u001b[38;5;124m\"\u001b[39m] \u001b[38;5;241m=\u001b[39m \u001b[38;5;28mself\u001b[39m\u001b[38;5;241m.\u001b[39m_unwrap_value(response\u001b[38;5;241m.\u001b[39mget(\u001b[38;5;124m\"\u001b[39m\u001b[38;5;124mvalue\u001b[39m\u001b[38;5;124m\"\u001b[39m, \u001b[38;5;28;01mNone\u001b[39;00m))\n\u001b[0;32m    431\u001b[0m     \u001b[38;5;28;01mreturn\u001b[39;00m response\n",
      "File \u001b[1;32m~\\AppData\\Local\\Programs\\Python\\Python313\\Lib\\site-packages\\selenium\\webdriver\\remote\\errorhandler.py:232\u001b[0m, in \u001b[0;36mErrorHandler.check_response\u001b[1;34m(self, response)\u001b[0m\n\u001b[0;32m    230\u001b[0m         alert_text \u001b[38;5;241m=\u001b[39m value[\u001b[38;5;124m\"\u001b[39m\u001b[38;5;124malert\u001b[39m\u001b[38;5;124m\"\u001b[39m]\u001b[38;5;241m.\u001b[39mget(\u001b[38;5;124m\"\u001b[39m\u001b[38;5;124mtext\u001b[39m\u001b[38;5;124m\"\u001b[39m)\n\u001b[0;32m    231\u001b[0m     \u001b[38;5;28;01mraise\u001b[39;00m exception_class(message, screen, stacktrace, alert_text)  \u001b[38;5;66;03m# type: ignore[call-arg]  # mypy is not smart enough here\u001b[39;00m\n\u001b[1;32m--> 232\u001b[0m \u001b[38;5;28;01mraise\u001b[39;00m exception_class(message, screen, stacktrace)\n",
      "\u001b[1;31mInvalidSessionIdException\u001b[0m: Message: invalid session id: session deleted as the browser has closed the connection\nfrom disconnected: not connected to DevTools\n  (Session info: chrome=135.0.7049.84)\nStacktrace:\n\tGetHandleVerifier [0x00007FF661475335+78597]\n\tGetHandleVerifier [0x00007FF661475390+78688]\n\t(No symbol) [0x00007FF6612291AA]\n\t(No symbol) [0x00007FF661214EF5]\n\t(No symbol) [0x00007FF661239F04]\n\t(No symbol) [0x00007FF6612AED0F]\n\t(No symbol) [0x00007FF6612CEBB2]\n\t(No symbol) [0x00007FF6612A6EC3]\n\t(No symbol) [0x00007FF6612703F8]\n\t(No symbol) [0x00007FF661271163]\n\tGetHandleVerifier [0x00007FF66171EEED+2870973]\n\tGetHandleVerifier [0x00007FF661719698+2848360]\n\tGetHandleVerifier [0x00007FF661736973+2967875]\n\tGetHandleVerifier [0x00007FF66149017A+188746]\n\tGetHandleVerifier [0x00007FF66149845F+222255]\n\tGetHandleVerifier [0x00007FF66147D2B4+111236]\n\tGetHandleVerifier [0x00007FF66147D462+111666]\n\tGetHandleVerifier [0x00007FF661463589+5465]\n\tBaseThreadInitThunk [0x00007FFD9BBEE8D7+23]\n\tRtlUserThreadStart [0x00007FFD9CE7C5DC+44]\n"
     ]
    }
   ],
   "source": [
    "# Chrome 옵션 설정\n",
    "options = Options()\n",
    "options.binary_location = \".\\\\chrome-win64\\\\chrome.exe\" # chrome 경로 설정\n",
    "options.add_argument(\"--no-sandbox\") # sandbox 설정\n",
    "# options.add_argument(\"--headless=new\")  # 헤드리스\n",
    "options.add_argument(\"--disable-dev-shm-usage\") # 공유메모리 설정\n",
    "options.add_argument(\"--window-size=1920,1080\") # 화면크기설정 , 반응형 웹 대비\n",
    "options.add_argument(\"--user-agent=Mozilla/5.0 (Windows NT 10.0; Win64; x64) AppleWebKit/537.36 (KHTML, like Gecko) Chrome/113.0.5672.126 Safari/537.36\")\n",
    "# options.add_argument(\"--disable-gpu\") # GPU 비활성화\n",
    "\n",
    "# ChromeDriver 설정\n",
    "service = Service(\".\\\\chromedriver.exe\")\n",
    "driver = webdriver.Chrome(service=service, options=options)\n",
    "driver.get(\"https://www.instagram.com/\")  # https://www.opinet.co.kr/searRgSelect.do\n",
    "print(driver.title)\n",
    "time.sleep(4) # 페이지 로드 기다림\n",
    "\n",
    "# email = os.getenv(\"EMAIL\")\n",
    "# passwd = os.getenv(\"PASSWORD\")\n",
    "email = \"wltkd2468864@gmail.com\"\n",
    "passwd = \"rla120900@@\"\n",
    "print(\"로그인시도 아이디/비밀번호\")\n",
    "\n",
    "# 아이디(이메일) 기입\n",
    "input_id = driver.find_element(By.CSS_SELECTOR, \"#loginForm > div.x9f619.xjbqb8w.x78zum5.x168nmei.x13lgxp2.x5pf9jr.xo71vjh.xqui205.x1n2onr6.x1plvlek.xryxfnj.x1c4vz4f.x2lah0s.xdt5ytf.xqjyukv.x1qjc9v5.x1oa3qoh.x1nhvcw1 > div:nth-child(1) > div > label > input\")\n",
    "input_id.clear()\n",
    "time.sleep(1)\n",
    "input_id.send_keys(email)\n",
    "time.sleep(2)\n",
    "\n",
    "# 비번 기입\n",
    "input_pw = driver.find_element(By.CSS_SELECTOR, \"#loginForm > div.x9f619.xjbqb8w.x78zum5.x168nmei.x13lgxp2.x5pf9jr.xo71vjh.xqui205.x1n2onr6.x1plvlek.xryxfnj.x1c4vz4f.x2lah0s.xdt5ytf.xqjyukv.x1qjc9v5.x1oa3qoh.x1nhvcw1 > div:nth-child(2) > div > label > input\") \n",
    "input_pw.clear()\n",
    "input_pw.send_keys(passwd)\n",
    "time.sleep(2)\n",
    "print(\"아이디 및 비번입력완료\")\n",
    "\n",
    "# 학인 및 이동\n",
    "submit = driver.find_element(By.CSS_SELECTOR, \"#loginForm > div.x9f619.xjbqb8w.x78zum5.x168nmei.x13lgxp2.x5pf9jr.xo71vjh.xqui205.x1n2onr6.x1plvlek.xryxfnj.x1c4vz4f.x2lah0s.xdt5ytf.xqjyukv.x1qjc9v5.x1oa3qoh.x1nhvcw1 > div:nth-child(3)\")\n",
    "submit.click()\n",
    "print(\"확인 및 이동\")\n",
    "time.sleep(7)\n",
    "\n",
    "try:\n",
    "    popup = driver.find_element(By.CSS_SELECTOR, \"div.x1gryazu.xh8yej3.x10o80wk.x14k21rp.x17snn68.x6osk4m.x1porb0y.x8vgawa > section > main > div > div > div > div\")\n",
    "    popup.click()\n",
    "    time.sleep(3)\n",
    "except:    \n",
    "    pass\n",
    "\n",
    "def insta_search(inword):\n",
    "    url_ori = f\"https://www.instagram.com/explore/search/keyword/?q={inword}\"\n",
    "    return url_ori\n",
    "\n",
    "word = \"부산여행\"\n",
    "url = insta_search(word)\n",
    "driver.get(url)\n",
    "print(f\"{word}의 검색시작!!🐧\")\n",
    "time.sleep(10)\n",
    "\n",
    "# 로드 결과\n",
    "wait = WebDriverWait(driver, 10)\n",
    "select_box1 = wait.until(EC.presence_of_element_located((By.CSS_SELECTOR,\"div.x78zum5.xdt5ytf.xwrv7xz.x1n2onr6.xph46j.xfcsdxf.xsybdxg.x1bzgcud > div > div:nth-child(1) > div:nth-child(1) > div > a\")))\n",
    "select_box1.click()\n",
    "print(\"첫카드 클릭\")\n",
    "time.sleep(7)\n",
    "info = []\n",
    "heart = []\n",
    "times = []\n",
    "for n in range(10):\n",
    "    html = driver.page_source\n",
    "    soup = bs(html, 'html.parser')\n",
    "    # 1. 본문내용 가져오기\n",
    "    content = soup.select_one('div._a9zr').get_text()\n",
    "    info.append(content)\n",
    "    heartrate = soup.select_one(\"section.x12nagc.x182iqb8.x1pi30zi.x1swvt13 > div > div > span > a > span\").get_text()\n",
    "    heart.append(heartrate)       \n",
    "    print(\"본문내용\",content)\n",
    "    time.sleep(3)\n",
    "    nextBt = wait.until(EC.presence_of_element_located((By.CSS_SELECTOR, 'button._abl- svg[aria-label=\"다음\"]')))\n",
    "    nextBt.click()\n",
    "    time.sleep(5)    "
   ]
  },
  {
   "cell_type": "code",
   "execution_count": null,
   "id": "65b88478-8e63-402d-af42-174df863a336",
   "metadata": {},
   "outputs": [],
   "source": [
    "service.stop()"
   ]
  },
  {
   "cell_type": "code",
   "execution_count": null,
   "id": "1b8c7015-6328-4776-9f21-7f0ba55baaf3",
   "metadata": {},
   "outputs": [],
   "source": [
    "for i, (n ,m ) in enumerate(zip(info,heart), 1):\n",
    "    print(i,'번째 정보:\\n',n,'\\n❤️',m)\n",
    "    print(\"=\"*100)"
   ]
  },
  {
   "cell_type": "code",
   "execution_count": null,
   "id": "9d32df4c-04f4-4b10-baab-0e14005815f0",
   "metadata": {},
   "outputs": [],
   "source": []
  }
 ],
 "metadata": {
  "kernelspec": {
   "display_name": "Python 3 (ipykernel)",
   "language": "python",
   "name": "python3"
  },
  "language_info": {
   "codemirror_mode": {
    "name": "ipython",
    "version": 3
   },
   "file_extension": ".py",
   "mimetype": "text/x-python",
   "name": "python",
   "nbconvert_exporter": "python",
   "pygments_lexer": "ipython3",
   "version": "3.13.1"
  }
 },
 "nbformat": 4,
 "nbformat_minor": 5
}
