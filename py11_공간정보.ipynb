{
 "cells": [
  {
   "cell_type": "markdown",
   "id": "bad355a7-21b9-4425-9f56-b7d4182e89cf",
   "metadata": {},
   "source": [
    "# 공간정보\n",
    "- 브이월드 공간정보 다운로드\n",
    "- https://www.vworld.kr/dtmk/dtmk_ntads_s001.do\n",
    "- 국토관리 지역개발 행정구역시군구_경계"
   ]
  },
  {
   "cell_type": "code",
   "execution_count": null,
   "id": "b0d4c8fa-5cae-4f42-975d-931813ea5ca1",
   "metadata": {},
   "outputs": [],
   "source": []
  }
 ],
 "metadata": {
  "kernelspec": {
   "display_name": "Python 3 (ipykernel)",
   "language": "python",
   "name": "python3"
  },
  "language_info": {
   "codemirror_mode": {
    "name": "ipython",
    "version": 3
   },
   "file_extension": ".py",
   "mimetype": "text/x-python",
   "name": "python",
   "nbconvert_exporter": "python",
   "pygments_lexer": "ipython3",
   "version": "3.13.1"
  }
 },
 "nbformat": 4,
 "nbformat_minor": 5
}
